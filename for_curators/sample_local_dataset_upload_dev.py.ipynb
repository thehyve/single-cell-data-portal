{
 "cells": [
  {
   "cell_type": "code",
   "execution_count": null,
   "id": "c0e0e2fd",
   "metadata": {},
   "outputs": [],
   "source": [
    "import requests\n",
    "import boto3\n",
    "\n",
    "# Use API key to obtain a temporary access token (for authentication & authorization with Curation API routes)\n",
    "\n",
    "api_key = open(\"../path/to/key_file\").read().strip()  # SUBSTITUTE VALUE HERE -- path to file containing your API key\n",
    "access_token_headers = {\"x-api-key\": api_key}\n",
    "access_token_url = \"https://api.cellxgene.dev.single-cell.czi.technology/curation/v1/auth/token\"\n",
    "resp = requests.post(access_token_url, headers=access_token_headers)\n",
    "access_token = resp.json().get(\"access_token\")"
   ]
  },
  {
   "cell_type": "code",
   "execution_count": null,
   "id": "6ac3a656",
   "metadata": {},
   "outputs": [],
   "source": [
    "# Use access token to obtain temporary s3 write credentials for a given Collection; these credentials will only work for THIS Collection.\n",
    "\n",
    "collection_id = \"<collection uuid>\"  # SUBSTITUTE VALUE HERE -- your (non-public) Collection id, e.g. \"1234abcd-5678-efab-1a2b-3c4d5e6f8a9b\"\n",
    "s3_credentials_url = f\"https://api.cellxgene.dev.single-cell.czi.technology/curation/v1/collections/{collection_id}/datasets/s3-upload-credentials\"\n",
    "s3_cred_headers = {\"Authorization\": f\"Bearer {access_token}\"}\n",
    "resp = requests.post(s3_credentials_url, headers=s3_cred_headers)\n",
    "s3_creds = resp.json().get(\"Credentials\")"
   ]
  },
  {
   "cell_type": "code",
   "execution_count": null,
   "id": "0c2970e6",
   "metadata": {},
   "outputs": [],
   "source": [
    "# Upload file using temporary s3 credentials\n",
    "\n",
    "access_key_id, secret_access_key, session_token = s3_creds[\"AccessKeyId\"], s3_creds[\"SecretAccessKey\"], s3_creds[\"SessionToken\"]\n",
    "session = boto3.Session(\n",
    "    aws_session_token=session_token,\n",
    "    aws_access_key_id=access_key_id,\n",
    "    aws_secret_access_key=secret_access_key,\n",
    ")\n",
    "\n",
    "s3 = session.client(\"s3\")\n",
    "filename = \"/fully/qualified/path/to/datafile\"  # SUBSTITUTE VALUE HERE -- Designate your datafile to upload; fully-qualified path\n",
    "curator_tag = \"arbitrary/curator_tag.h5ad\"  # SUBSTITUTE VALUE HERE -- **MUST POSSESS '.h5ad' SUFFIX**; will serve as unique identifier for the resultant Dataset *within* this Collection\n",
    "try:\n",
    "    success = s3.upload_file(\n",
    "        Filename=filename,\n",
    "        Bucket=\"cellxgene-dataset-submissions-dev\",\n",
    "        Key=f\"{collection_id}/{curator_tag}\",\n",
    "    )\n",
    "except Exception as e:\n",
    "    print(e)\n",
    "else:\n",
    "    print(\"File successfully uploaded!\")"
   ]
  }
 ],
 "metadata": {
  "kernelspec": {
   "display_name": "Python 3 (ipykernel)",
   "language": "python",
   "name": "python3"
  },
  "language_info": {
   "codemirror_mode": {
    "name": "ipython",
    "version": 3
   },
   "file_extension": ".py",
   "mimetype": "text/x-python",
   "name": "python",
   "nbconvert_exporter": "python",
   "pygments_lexer": "ipython3",
   "version": "3.8.6"
  }
 },
 "nbformat": 4,
 "nbformat_minor": 5
}
