{
 "cells": [
  {
   "cell_type": "code",
   "execution_count": null,
   "id": "c0e0e2fd",
   "metadata": {},
   "outputs": [],
   "source": [
    "import requests\n",
    "import boto3\n",
    "\n",
    "# Use API key to obtain a temporary access token (for authentication & authorization with Curation API routes)\n",
    "\n",
    "api_key = open(\"<path_to_file_containing_api_key>\").read().strip()  # substitute path to file containing api key\n",
    "access_token_headers = {\"x-api-key\": api_key}\n",
    "access_token_url = \"https://api.cellxgene.dev.single-cell.czi.technology/curation/v1/auth/token\"\n",
    "resp = requests.post(access_token_url, headers=access_token_headers)\n",
    "access_token = resp.json().get(\"access_token\")\n",
    "\n",
    "print(access_token)"
   ]
  },
  {
   "cell_type": "code",
   "execution_count": null,
   "id": "70801ec0",
   "metadata": {},
   "outputs": [],
   "source": [
    "# Use access token to obtain temporary s3 write credentials for a given Collection; these credentials will only work for THIS Collection.\n",
    "\n",
    "collection_id = \"<private/revision_collection_uuid>\"  # substitute your (non-public) Collection id, e.g. \"1234abcd-5678-efab-1a2b-3c4d5e6f8a9b\"\n",
    "s3_credentials_url = f\"https://api.cellxgene.dev.single-cell.czi.technology/curation/v1/collections/{collection_id}/datasets/s3-upload-credentials\"\n",
    "s3_cred_headers = {\"Authorization\": f\"Bearer {access_token}\"}\n",
    "resp = requests.post(s3_credentials_url, headers=s3_cred_headers)\n",
    "s3_creds = resp.json().get(\"Credentials\")"
   ]
  },
  {
   "cell_type": "code",
   "execution_count": null,
   "id": "157c3b8a",
   "metadata": {},
   "outputs": [],
   "source": [
    "# Upload file using temporary s3 credentials\n",
    "\n",
    "access_key_id, secret_access_key, session_token = s3_creds[\"AccessKeyId\"], s3_creds[\"SecretAccessKey\"], s3_creds[\"SessionToken\"]\n",
    "session = boto3.Session(\n",
    "    aws_session_token=session_token,\n",
    "    aws_access_key_id=access_key_id,\n",
    "    aws_secret_access_key=secret_access_key,\n",
    ")\n",
    "\n",
    "s3 = session.client(\"s3\")\n",
    "success = s3.upload_file(\n",
    "    Filename=\"<path_to_your_local_h5ad_datafile>\",  # Your dataset, e.g. \"~/my_datasets/Dataset1.h5ad\"\n",
    "    Bucket=\"cellxgene-dataset-submissions-dev\",\n",
    "    Key=f\"{collection_id}/<arbitrary/curator-provided_tag.h5ad>\",  # **TAG MUST POSSESS '.h5ad' SUFFIX** -- this tag will uniquely identify this Dataset within this Collection, e.g. \"Dataset1.h5ad\"\n",
    ")\n",
    "if success:\n",
    "    print(\"File successfully uploaded\")\n",
    "else:\n",
    "    print(\"File upload failed\")"
   ]
  }
 ],
 "metadata": {
  "kernelspec": {
   "display_name": "Python 3 (ipykernel)",
   "language": "python",
   "name": "python3"
  },
  "language_info": {
   "codemirror_mode": {
    "name": "ipython",
    "version": 3
   },
   "file_extension": ".py",
   "mimetype": "text/x-python",
   "name": "python",
   "nbconvert_exporter": "python",
   "pygments_lexer": "ipython3",
   "version": "3.8.6"
  }
 },
 "nbformat": 4,
 "nbformat_minor": 5
}
